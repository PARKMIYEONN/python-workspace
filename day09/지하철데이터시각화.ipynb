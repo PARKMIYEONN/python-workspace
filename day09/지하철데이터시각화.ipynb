{
 "cells": [
  {
   "cell_type": "code",
   "execution_count": 12,
   "id": "4ac205f9",
   "metadata": {},
   "outputs": [],
   "source": [
    "# 유임승차 승객수가 가장 많은 역과 승객수 조회\n",
    "import csv\n",
    "import matplotlib.pyplot as plt"
   ]
  },
  {
   "cell_type": "code",
   "execution_count": 15,
   "id": "ee22ed12",
   "metadata": {},
   "outputs": [
    {
     "name": "stdout",
     "output_type": "stream",
     "text": [
      "유임승차 승객수가 가장 많은 역은 강남역이고, 승객 수는 2135670명 입니다\n"
     ]
    }
   ],
   "source": [
    "with open('data/202308_subway.csv', 'r', encoding='utf-8') as file:\n",
    "    data = csv.reader(file)\n",
    "    next(data)\n",
    "    # maxInfo[0] : 유임승차 승객수가 가장 많은 역\n",
    "    # maxInfo[1] : 유임승차 승객수가 가장 많은 역의 승객수\n",
    "    maxInfo = ['', -1]  #리스트를 초기화\n",
    "    for row in data:\n",
    "        row[4] = int(row[4].replace(',',''))\n",
    "        if row[4] > maxInfo[1]:\n",
    "            maxInfo[0] = row[3]\n",
    "            maxInfo[1] = row[4]\n",
    "    print(f'유임승차 승객수가 가장 많은 역은 {maxInfo[0]}역이고, 승객 수는 {maxInfo[1]}명 입니다')"
   ]
  },
  {
   "cell_type": "code",
   "execution_count": 11,
   "id": "b95b79a1",
   "metadata": {},
   "outputs": [
    {
     "name": "stdout",
     "output_type": "stream",
     "text": [
      "유임하차 승객수가 가장 많은 역은 홍대입구역이고, 승객 수는 2100640명 입니다.\n"
     ]
    }
   ],
   "source": [
    "with open('data/202308_subway.csv','r', encoding='utf-8') as file:\n",
    "    data = csv.reader(file)\n",
    "    next(data)\n",
    "    max_offInfo = ['', -1]\n",
    "    for row in data:\n",
    "        row[5] = int(row[5].replace(',',''))\n",
    "        if row[5] > max_offInfo[1]:\n",
    "            max_offInfo[0] = row[3]\n",
    "            max_offInfo[1] = row[5]\n",
    "    print(f'유임하차 승객수가 가장 많은 역은 {max_offInfo[0]}역이고, 승객 수는 {max_offInfo[1]}명 입니다.')"
   ]
  },
  {
   "cell_type": "code",
   "execution_count": 22,
   "id": "6f0e1db1",
   "metadata": {},
   "outputs": [
    {
     "name": "stdout",
     "output_type": "stream",
     "text": [
      "승객수가 가장 많은 역은 서울역역이고, 승객 수는 1348135명\n",
      "승객수가 가장 많은 역은 잠실(송파구청)역이고, 승객 수는 2074647명\n",
      "승객수가 가장 많은 역은 강남역이고, 승객 수는 2135670명\n"
     ]
    }
   ],
   "source": [
    "with open('data/202308_subway.csv', 'r', encoding='utf-8') as file:\n",
    "    data = csv.reader(file)\n",
    "    next(data)\n",
    "    # maxInfo[0] : 유임승차 승객수가 가장 많은 역\n",
    "    # maxInfo[1] : 유임승차 승객수가 가장 많은 역의 승객수\n",
    "    maxInfo = ['', -1]  #리스트를 초기화\n",
    "    for row in data:\n",
    "        for r in row[4:-1]:\n",
    "            r1 = int(r.replace(',',''))\n",
    "            if r1 > maxInfo[1]:\n",
    "                maxInfo[0] = row[3]\n",
    "                maxInfo[1] = r1\n",
    "                print(f'승객수가 가장 많은 역은 {maxInfo[0]}역이고, 승객 수는 {maxInfo[1]}명')"
   ]
  },
  {
   "cell_type": "code",
   "execution_count": 29,
   "id": "d046b8f8",
   "metadata": {},
   "outputs": [
    {
     "name": "stdout",
     "output_type": "stream",
     "text": [
      "['', '', '', ''] [0, 0, 0, 0]\n",
      "유임승차 : 강남역(2135670명)\n",
      "유임하차 : 홍대입구역(2100640명)\n",
      "무임승차 : 영등포역(279986명)\n",
      "무임하차 : 영등포역(280606명)\n"
     ]
    }
   ],
   "source": [
    "# 유임승차, 유임하차, 무임승차, 무임하차 승객수가 가장 많은 역과 승객수 조회\n",
    "with open('data/202308_subway.csv','r', encoding='utf-8') as file:\n",
    "    data = csv.reader(file)\n",
    "    next(data)\n",
    "    stations = [''] * 4\n",
    "    max_people = [0] * 4\n",
    "    print(stations, max_people)\n",
    "    for row in data:\n",
    "        for i in range(4):\n",
    "            person = int(row[4+i].replace(',',''))\n",
    "            if person > max_people[i]:\n",
    "                stations[i] = row[3]\n",
    "                max_people[i] = person\n",
    "    \n",
    "    titles = ['유임승차', '유임하차', '무임승차', '무임하차']\n",
    "    for i in range(len(stations)):\n",
    "        print(f'{titles[i]} : {stations[i]}역({max_people[i]}명)')"
   ]
  },
  {
   "cell_type": "code",
   "execution_count": 16,
   "id": "592cb181",
   "metadata": {},
   "outputs": [
    {
     "name": "stdout",
     "output_type": "stream",
     "text": [
      "신림(2호선) : 186200명\n"
     ]
    },
    {
     "data": {
      "image/png": "[encoded data removed]",
      "text/plain": [
       "<Figure size 640x480 with 1 Axes>"
      ]
     },
     "metadata": {},
     "output_type": "display_data"
    }
   ],
   "source": [
    "# 출근시간(오전7시)에 승객이 가장 많이 승차하는 역을 검색\n",
    "with open('data/202308_trans_time.csv', 'r', encoding='utf-8')as file:\n",
    "    data = csv.reader(file)\n",
    "    next(data)\n",
    "    next(data)\n",
    "    \n",
    "    station = ''\n",
    "    max_person = 0\n",
    "    for row in data:\n",
    "        person = int(row[10].replace(',',''))\n",
    "        if person > max_person:\n",
    "            station = f'{row[3]}({row[1]})'\n",
    "            max_person = person\n",
    "    print(f'{station} : {max_person}명')"
   ]
  },
  {
   "cell_type": "code",
   "execution_count": null,
   "id": "758d2253",
   "metadata": {},
   "outputs": [],
   "source": []
  },
  {
   "cell_type": "code",
   "execution_count": 11,
   "id": "a7ebd826",
   "metadata": {},
   "outputs": [
    {
     "name": "stdout",
     "output_type": "stream",
     "text": [
      "신림(2호선) : 613852명\n"
     ]
    }
   ],
   "source": [
    "# 출근시간(7시~9시)에 승객이 가장 많이 승차하는 역을 검색\n",
    "with open('data/202308_trans_time.csv','r',encoding='utf-8')as file:\n",
    "    data = csv.reader(file)\n",
    "    next(data)\n",
    "    next(data)\n",
    "    \n",
    "    station = ''\n",
    "    max_person = 0\n",
    "    for row in data:\n",
    "        person = sum([int(i.replace(',','')) for i in row[10:15:2]])\n",
    "        if person > max_person:\n",
    "            station = f'{row[3]}({row[1]})'\n",
    "            max_person = person\n",
    "    print(f'{station} : {max_person}명')\n",
    "    "
   ]
  },
  {
   "cell_type": "code",
   "execution_count": 28,
   "id": "8b2c3217",
   "metadata": {},
   "outputs": [
    {
     "name": "stdout",
     "output_type": "stream",
     "text": [
      "신림(2호선) : 613852명\n"
     ]
    }
   ],
   "source": [
    "# 출근시간대(7시, 8시, 9시) 승차승객수가 가장 많은 역 조회\n",
    "def to_int(data):\n",
    "    return int(data.replace(',',''))\n",
    "with open('data/202308_trans_time.csv','r',encoding='utf-8')as file:\n",
    "    data = csv.reader(file)\n",
    "    next(data)\n",
    "    next(data)\n",
    "    max_person = 0\n",
    "    station=''\n",
    "    for row in data:\n",
    "        person = row[10:15:2]\n",
    "        person = list(map(to_int,person))\n",
    "        \n",
    "        #print(person)\n",
    "        #person = [int(p.replace(',',''))for p in row[10:15:2]]\n",
    "        #print(person,sum(person))\n",
    "        \n",
    "        if sum(person) > max_person:\n",
    "            station = f'{row[3]}({row[1]})'\n",
    "            max_person = sum(person)\n",
    "            \n",
    "    print(f'{station} : {max_person}명')"
   ]
  },
  {
   "cell_type": "code",
   "execution_count": 23,
   "id": "c175c9c3",
   "metadata": {},
   "outputs": [
    {
     "data": {
      "text/plain": [
       "[12, 9, 234, 5]"
      ]
     },
     "execution_count": 23,
     "metadata": {},
     "output_type": "execute_result"
    }
   ],
   "source": [
    "a = ['12', '9', '234', '5']\n",
    "b=map(int, a)\n",
    "list(b)"
   ]
  },
  {
   "cell_type": "code",
   "execution_count": 33,
   "id": "8954e8f1",
   "metadata": {},
   "outputs": [
    {
     "name": "stdout",
     "output_type": "stream",
     "text": [
      "신림(2호선) : 613852명\n",
      "[186200, 267850, 159802]\n"
     ]
    },
    {
     "data": {
      "image/png": "[encoded data removed]",
      "text/plain": [
       "<Figure size 640x480 with 1 Axes>"
      ]
     },
     "metadata": {},
     "output_type": "display_data"
    }
   ],
   "source": [
    "# 출근시간대(7시, 8시, 9시) 승차승객수가 가장 많은 역 조회\n",
    "def to_int(data):\n",
    "    return int(data.replace(',',''))\n",
    "with open('data/202308_trans_time.csv','r',encoding='utf-8')as file:\n",
    "    data = csv.reader(file)\n",
    "    next(data)\n",
    "    next(data)\n",
    "    max_person = [0]\n",
    "    station=''\n",
    "    for row in data:\n",
    "        person = row[10:15:2]\n",
    "        person = list(map(to_int,person))\n",
    "        \n",
    "        #print(person)\n",
    "        #person = [int(p.replace(',',''))for p in row[10:15:2]]\n",
    "        #print(person,sum(person))\n",
    "        \n",
    "        if sum(person) > sum(max_person):\n",
    "            station = f'{row[3]}({row[1]})'\n",
    "            max_person = person\n",
    "            \n",
    "    print(f'{station} : {sum(max_person)}명')\n",
    "    print(max_person)\n",
    "    \n",
    "    plt.rc('font', family='gulim')\n",
    "    plt.pie(max_person, labels=['7시대', '8시대', '9시대'], autopct='%.2f%%')"
   ]
  },
  {
   "cell_type": "code",
   "execution_count": 58,
   "id": "301f53d4",
   "metadata": {},
   "outputs": [
    {
     "name": "stdout",
     "output_type": "stream",
     "text": [
      "검색할 시간대를 입력하세요 : 10\n",
      "10시대 : 신림(2호선)[87820명]\n"
     ]
    }
   ],
   "source": [
    "# 검색할 시간대를 입력(24시) : 9\n",
    "# 9시대에 가장 많은 승차인원을 가진 역과 인원수 출력\n",
    "a = int(input('검색할 시간대를 입력하세요 : '))\n",
    "with open('data/202308_trans_time.csv', 'r', encoding='utf-8')as file:\n",
    "    data = csv.reader(file)\n",
    "    next(data)\n",
    "    next(data)\n",
    "    \n",
    "    station = ''\n",
    "    max_person = 0\n",
    "    for row in data:\n",
    "        \n",
    "        person = int(row[4 +(a-4)*2].replace(',',''))\n",
    "        if person > max_person:\n",
    "            station = f'{row[3]}({row[1]})'\n",
    "            max_person = person\n",
    "    print(f'{a}시대 : {station}[{max_person}명]')"
   ]
  },
  {
   "cell_type": "code",
   "execution_count": 81,
   "id": "23e4a426",
   "metadata": {},
   "outputs": [
    {
     "ename": "IndentationError",
     "evalue": "expected an indented block after 'for' statement on line 12 (1020377577.py, line 14)",
     "output_type": "error",
     "traceback": [
      "\u001b[1;36m  Cell \u001b[1;32mIn[81], line 14\u001b[1;36m\u001b[0m\n\u001b[1;33m    for i in row[5:-1:2]:\u001b[0m\n\u001b[1;37m    ^\u001b[0m\n\u001b[1;31mIndentationError\u001b[0m\u001b[1;31m:\u001b[0m expected an indented block after 'for' statement on line 12\n"
     ]
    }
   ],
   "source": [
    "def to_int(data):\n",
    "    return int(data.replace(',',''))\n",
    "with open('data/202308_trans_time.csv', 'r', encoding='utf-8')as file:\n",
    "    data = csv.reader(file)\n",
    "    next(data)\n",
    "    next(data)\n",
    "    sp = []\n",
    "    op = []\n",
    "    sumsp = []\n",
    "    sumop = []\n",
    "    for row in data:\n",
    "        for i in row[4:-1:2]:\n",
    "            \n",
    "        for i in row[5:-1:2]:\n",
    "            op.append(to_int(i))        \n",
    "        sumop.append(sum(op))\n",
    "        \n",
    "plt.plot(sumsp)\n",
    "plt.plot(sumop)"
   ]
  }
 ],
 "metadata": {
  "kernelspec": {
   "display_name": "Python 3 (ipykernel)",
   "language": "python",
   "name": "python3"
  },
  "language_info": {
   "codemirror_mode": {
    "name": "ipython",
    "version": 3
   },
   "file_extension": ".py",
   "mimetype": "text/x-python",
   "name": "python",
   "nbconvert_exporter": "python",
   "pygments_lexer": "ipython3",
   "version": "3.11.4"
  }
 },
 "nbformat": 4,
 "nbformat_minor": 5
}
